{
 "cells": [
  {
   "cell_type": "markdown",
   "id": "7a86f242-c2e9-41ed-96b8-e8cdb11ecb4c",
   "metadata": {},
   "source": [
    "The cell below will be all the libraries I will be importing"
   ]
  },
  {
   "cell_type": "code",
   "execution_count": 49,
   "id": "c6f9d528-393f-45bb-b62f-661aafaf7ad2",
   "metadata": {},
   "outputs": [],
   "source": [
    "import numpy as np\n",
    "import matplotlib.pyplot as plt\n",
    "from matplotlib.patches import Rectangle\n",
    "import random as rn\n",
    "from numpy.random import randint"
   ]
  },
  {
   "cell_type": "code",
   "execution_count": 97,
   "id": "ba729bd2-d118-4ffd-ad14-be6674d42689",
   "metadata": {},
   "outputs": [
    {
     "name": "stdout",
     "output_type": "stream",
     "text": [
      "value of pi is:  3.130346813718837\n"
     ]
    },
    {
     "data": {
      "image/png": "[encoded data removed]",
      "text/plain": [
       "<Figure size 432x288 with 1 Axes>"
      ]
     },
     "metadata": {
      "needs_background": "light"
     },
     "output_type": "display_data"
    }
   ],
   "source": [
    "figure, axes = plt.subplots()\n",
    "draw_circle = plt.Circle((0, 0), 3,fill=False)\n",
    "\n",
    "##############____Begin random dots____##############\n",
    "n = 100 #number of times that my simulation will be run\n",
    "val1=np.zeros(n)\n",
    "error_g = np.zeros(1000000)\n",
    "time = np.zeros(1000000)\n",
    "for w in range(n):\n",
    "    circ_counter = 0\n",
    "    sqr_counter = 0\n",
    "    x_arr = randint(-10.0, 10.0, 1000000)\n",
    "    y_arr = randint(-10.0, 10.0, 1000000)\n",
    "    for i in range(1000000):\n",
    "       # x_arr[i] = rn.randint(-10,10)\n",
    "       # y_arr[i] = rn.randint(-10,10)\n",
    "        val = x_arr[i]**2 + y_arr[i]**2\n",
    "        if(val < 9):\n",
    "            circ_counter = circ_counter+1\n",
    "        elif((x_arr[i]< -4) and (x_arr[i]>-7 )and (y_arr[i]>3) and (y_arr[i]<6)):\n",
    "            sqr_counter = sqr_counter+1\n",
    "        if(sqr_counter!=0):\n",
    "            error_g[i] = (circ_counter/sqr_counter)/2\n",
    "            time[i]=i\n",
    "    val2 = circ_counter/sqr_counter\n",
    "    val1[w]= val2/2\n",
    "pi = (np.sum(val1))/n\n",
    "print(\"value of pi is: \", pi)\n",
    "#for i in range(1000):\n",
    "    \n",
    "##############____end random dots_____##############\n",
    "\n",
    "##############____Begin Square____##############\n",
    "point1 = [-4, 3]\n",
    "point2 = [-7, 3]\n",
    "point3 = [-4,6]\n",
    "point4 = [-7, 6]\n",
    "\n",
    "#first line\n",
    "x1_values = [point1[0], point2[0]]\n",
    "y1_values = [point1[1], point2[1]]\n",
    "\n",
    "#second line\n",
    "x2_values = [point1[0], point3[0]]\n",
    "y2_values = [point1[1], point3[1]]\n",
    "\n",
    "#third line\n",
    "x3_values = [point2[0], point4[0]]\n",
    "y3_values = [point2[1], point4[1]]\n",
    "\n",
    "#fourth line\n",
    "x4_values = [point3[0], point4[0]]\n",
    "y4_values = [point3[1], point4[1]]\n",
    "##############____end Square____##############\n",
    "\n",
    "##############____begin random point plot____##############\n",
    "plt.scatter(x_arr,y_arr)\n",
    "##############____end of random point plot____##############\n",
    "\n",
    "\n",
    "plt.plot(x1_values, y1_values)\n",
    "plt.plot(x2_values, y2_values)\n",
    "plt.plot(x3_values, y3_values)\n",
    "plt.plot(x4_values, y4_values)\n",
    "plt.ylim(-10, 10) \n",
    "#corresponding function for the x-axis\n",
    "plt.xlim(-15, 15)\n",
    "\n",
    "axes.set_aspect(1)\n",
    "axes.add_artist(draw_circle)\n",
    "plt.title('Circle')\n",
    "plt.show()"
   ]
  },
  {
   "cell_type": "code",
   "execution_count": 99,
   "id": "e6ef054e-1bcd-4e8d-8740-b58e0e23744a",
   "metadata": {},
   "outputs": [
    {
     "data": {
      "image/png": "[encoded data removed]",
      "text/plain": [
       "<Figure size 432x288 with 1 Axes>"
      ]
     },
     "metadata": {
      "needs_background": "light"
     },
     "output_type": "display_data"
    }
   ],
   "source": [
    "plt.axhline(y=np.pi, color='r', linestyle='-')\n",
    "#error_g[:]/2\n",
    "plt.plot(error_g)\n",
    "plt.ylim(2.5, 4) \n",
    "plt.show()\n"
   ]
  },
  {
   "cell_type": "code",
   "execution_count": null,
   "id": "2d553e54-fe09-4d84-8a11-ddaa6f3160ee",
   "metadata": {},
   "outputs": [],
   "source": []
  }
 ],
 "metadata": {
  "kernelspec": {
   "display_name": "Python 3",
   "language": "python",
   "name": "python3"
  },
  "language_info": {
   "codemirror_mode": {
    "name": "ipython",
    "version": 3
   },
   "file_extension": ".py",
   "mimetype": "text/x-python",
   "name": "python",
   "nbconvert_exporter": "python",
   "pygments_lexer": "ipython3",
   "version": "3.9.1"
  }
 },
 "nbformat": 4,
 "nbformat_minor": 5
}
